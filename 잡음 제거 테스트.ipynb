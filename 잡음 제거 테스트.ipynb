{
 "cells": [
  {
   "cell_type": "markdown",
   "metadata": {},
   "source": [
    "잡음 제거 테스트"
   ]
  },
  {
   "cell_type": "code",
   "execution_count": 9,
   "metadata": {},
   "outputs": [
    {
     "name": "stdout",
     "output_type": "stream",
     "text": [
      "Adjusting for ambient noise...\n",
      "Recording...\n",
      "Audio saved to output.wav\n"
     ]
    }
   ],
   "source": [
    "import speech_recognition as sr\n",
    "import wave\n",
    "import io\n",
    "import noisereduce as nr\n",
    "\n",
    "# 오디오 데이터를 wav 파일로 저장하는 함수\n",
    "def save_buffer_to_wav(buffer, sample_rate, sample_width, filename):\n",
    "    with wave.open(filename, 'wb') as wf:\n",
    "        wf.setnchannels(1)  # 모노\n",
    "        wf.setsampwidth(sample_width)\n",
    "        wf.setframerate(sample_rate)\n",
    "        wf.writeframes(b''.join(buffer))\n",
    "\n",
    "# 마이크에서 음성을 스트리밍하는 함수\n",
    "def record_audio(filename=\"output.wav\"):\n",
    "    recognizer = sr.Recognizer()\n",
    "    microphone = sr.Microphone(sample_rate=16000)\n",
    "    buffer = []\n",
    "    chunk_size = 16000\n",
    "    num_chunks = 5\n",
    "\n",
    "    with microphone as source:\n",
    "        print(\"Adjusting for ambient noise...\"); recognizer.adjust_for_ambient_noise(source)  # 주변 소음을 기준으로 에너지 임계값 조정\n",
    "        \n",
    "        print(\"Recording...\")\n",
    "        recognizer.energy_threshold = recognizer.energy_threshold + 100\n",
    "\n",
    "        while len(buffer) < num_chunks:\n",
    "            buffer.append(source.stream.read(chunk_size))\n",
    "\n",
    "    sample_rate = microphone.SAMPLE_RATE\n",
    "    sample_width = microphone.SAMPLE_WIDTH\n",
    "    save_buffer_to_wav(buffer, sample_rate, sample_width, filename)\n",
    "    print(\"Audio saved to {}\".format(filename))\n",
    "\n",
    "if __name__ == \"__main__\":\n",
    "    record_audio()\n"
   ]
  },
  {
   "cell_type": "code",
   "execution_count": null,
   "metadata": {},
   "outputs": [],
   "source": [
    "'''\n",
    "240620 sk 사물인식 건으로 음성인식 업무 보류.\n",
    "noisereduce 라이브러리 이용해서 노이즈 감소시키는 테스트 해보려고 함.\n",
    "아래 코드는 chatgpt가 마지막으로 만들어준 코드\n",
    "바로 위 코드에다가 노이즈 감소 코드를 추가했고 아직 실행은 안해봄\n",
    "'''\n",
    "\n",
    "import speech_recognition as sr\n",
    "import wave\n",
    "import noisereduce as nr\n",
    "import numpy as np\n",
    "\n",
    "# 오디오 데이터를 wav 파일로 저장하는 함수\n",
    "def save_buffer_to_wav(buffer, sample_rate, sample_width, filename):\n",
    "    with wave.open(filename, 'wb') as wf:\n",
    "        wf.setnchannels(1)  # 모노\n",
    "        wf.setsampwidth(sample_width)\n",
    "        wf.setframerate(sample_rate)\n",
    "        wf.writeframes(b''.join(buffer))\n",
    "\n",
    "# 마이크에서 음성을 스트리밍하는 함수\n",
    "def record_audio(filename=\"output.wav\"):\n",
    "    recognizer = sr.Recognizer()\n",
    "    microphone = sr.Microphone(sample_rate=16000, chunk_size=1024)\n",
    "    buffer = []\n",
    "    chunk_size = 1024\n",
    "    num_chunks = int(5 * microphone.SAMPLE_RATE / chunk_size)\n",
    "\n",
    "    with microphone as source:\n",
    "        print(\"Adjusting for ambient noise...\")\n",
    "        recognizer.adjust_for_ambient_noise(source)  # 주변 소음을 기준으로 에너지 임계값 조정\n",
    "\n",
    "        print(\"Recording...\")\n",
    "        recognizer.energy_threshold += 100\n",
    "\n",
    "        while len(buffer) < num_chunks:\n",
    "            buffer.append(source.stream.read(chunk_size))\n",
    "\n",
    "    # 버퍼를 하나의 오디오 데이터로 결합\n",
    "    audio_data = np.frombuffer(b''.join(buffer), dtype=np.int16)\n",
    "    # 노이즈 감소\n",
    "    reduced_noise = nr.reduce_noise(y=audio_data, sr=microphone.SAMPLE_RATE)\n",
    "\n",
    "    # 노이즈 감소된 데이터를 다시 버퍼로 변환\n",
    "    buffer = [reduced_noise.tobytes()]\n",
    "\n",
    "    sample_rate = microphone.SAMPLE_RATE\n",
    "    sample_width = microphone.SAMPLE_WIDTH\n",
    "    save_buffer_to_wav(buffer, sample_rate, sample_width, filename)\n",
    "    print(\"Audio saved to {}\".format(filename))\n",
    "\n",
    "if __name__ == \"__main__\":\n",
    "    record_audio()\n"
   ]
  },
  {
   "cell_type": "code",
   "execution_count": null,
   "metadata": {},
   "outputs": [],
   "source": []
  },
  {
   "cell_type": "code",
   "execution_count": null,
   "metadata": {},
   "outputs": [],
   "source": []
  },
  {
   "cell_type": "code",
   "execution_count": null,
   "metadata": {},
   "outputs": [],
   "source": []
  },
  {
   "cell_type": "code",
   "execution_count": null,
   "metadata": {},
   "outputs": [],
   "source": []
  },
  {
   "cell_type": "code",
   "execution_count": null,
   "metadata": {},
   "outputs": [],
   "source": []
  },
  {
   "cell_type": "code",
   "execution_count": null,
   "metadata": {},
   "outputs": [],
   "source": []
  },
  {
   "cell_type": "code",
   "execution_count": null,
   "metadata": {},
   "outputs": [],
   "source": []
  },
  {
   "cell_type": "code",
   "execution_count": null,
   "metadata": {},
   "outputs": [],
   "source": []
  }
 ],
 "metadata": {
  "kernelspec": {
   "display_name": "whisper",
   "language": "python",
   "name": "python3"
  },
  "language_info": {
   "codemirror_mode": {
    "name": "ipython",
    "version": 3
   },
   "file_extension": ".py",
   "mimetype": "text/x-python",
   "name": "python",
   "nbconvert_exporter": "python",
   "pygments_lexer": "ipython3",
   "version": "3.10.14"
  }
 },
 "nbformat": 4,
 "nbformat_minor": 2
}
